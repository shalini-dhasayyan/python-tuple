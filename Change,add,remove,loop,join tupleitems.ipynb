{
 "cells": [
  {
   "cell_type": "markdown",
   "id": "c04852f2",
   "metadata": {},
   "source": [
    "# Tuple"
   ]
  },
  {
   "cell_type": "markdown",
   "id": "9d9d7210",
   "metadata": {},
   "source": [
    "Packing & unpacking tuple"
   ]
  },
  {
   "cell_type": "code",
   "execution_count": 38,
   "id": "d157cd03",
   "metadata": {},
   "outputs": [
    {
     "name": "stdout",
     "output_type": "stream",
     "text": [
      "b\n",
      "r\n",
      "['w', 'o', 'g']\n"
     ]
    }
   ],
   "source": [
    "letters_are = ('b', 'r', 'w', 'o','g')\n",
    "(a,b,*c)= letters_are#packing\n",
    "print(a)\n",
    "print(b)\n",
    "print(c)"
   ]
  },
  {
   "cell_type": "code",
   "execution_count": 39,
   "id": "18d3792a",
   "metadata": {},
   "outputs": [
    {
     "name": "stdout",
     "output_type": "stream",
     "text": [
      "b\n",
      "r\n",
      "w\n"
     ]
    }
   ],
   "source": [
    "letters_are = ('b', 'r', 'w')\n",
    "(a,b,c)= letters_are#unpacking\n",
    "print(a)\n",
    "print(b)\n",
    "print(c)"
   ]
  },
  {
   "cell_type": "markdown",
   "id": "081e4926",
   "metadata": {},
   "source": [
    "change the items"
   ]
  },
  {
   "cell_type": "code",
   "execution_count": 11,
   "id": "446ebd5f",
   "metadata": {},
   "outputs": [
    {
     "name": "stdout",
     "output_type": "stream",
     "text": [
      "('black', 'brown', 'white', 'orange', 'purple')\n"
     ]
    }
   ],
   "source": [
    "colors = ('black', 'brown', 'white', 'orange','green')\n",
    "colors_are = list(colors)#change tuple to list\n",
    "colors_are[4]  = 'purple'\n",
    "colors = tuple(colors_are)#change list to tuple\n",
    "print(colors)"
   ]
  },
  {
   "cell_type": "markdown",
   "id": "a601000a",
   "metadata": {},
   "source": [
    "Add the item to tuple"
   ]
  },
  {
   "cell_type": "code",
   "execution_count": 12,
   "id": "3ea2a360",
   "metadata": {},
   "outputs": [
    {
     "name": "stdout",
     "output_type": "stream",
     "text": [
      "('black', 'brown', 'white', 'orange', 'green', 'purple')\n"
     ]
    }
   ],
   "source": [
    "colors = ('black', 'brown', 'white', 'orange','green')\n",
    "colors_are = list(colors)#change tuple to list\n",
    "colors_are.append(\"purple\")\n",
    "colors = tuple(colors_are)#change list to tuple\n",
    "print(colors)"
   ]
  },
  {
   "cell_type": "markdown",
   "id": "9fbb278c",
   "metadata": {},
   "source": [
    "Remove the item"
   ]
  },
  {
   "cell_type": "code",
   "execution_count": 20,
   "id": "98bac000",
   "metadata": {},
   "outputs": [
    {
     "name": "stdout",
     "output_type": "stream",
     "text": [
      "('black', 'brown', 'white', 'green')\n"
     ]
    }
   ],
   "source": [
    "colors = ('black', 'brown', 'white', 'orange','green')\n",
    "colors_are = list(colors)#change tuple to list\n",
    "colors_are.remove('orange')\n",
    "colors = tuple(colors_are)#change list to tuple\n",
    "print(colors)"
   ]
  },
  {
   "cell_type": "markdown",
   "id": "60a20837",
   "metadata": {},
   "source": [
    "for loop"
   ]
  },
  {
   "cell_type": "code",
   "execution_count": 27,
   "id": "d983dd54",
   "metadata": {
    "scrolled": false
   },
   "outputs": [
    {
     "name": "stdout",
     "output_type": "stream",
     "text": [
      "black\n",
      "brown\n",
      "white\n",
      "orange\n",
      "green\n"
     ]
    }
   ],
   "source": [
    "colors = ('black', 'brown', 'white', 'orange','green')\n",
    "for no in colors:\n",
    "  print(no)"
   ]
  },
  {
   "cell_type": "code",
   "execution_count": 29,
   "id": "7e890a0b",
   "metadata": {},
   "outputs": [
    {
     "name": "stdout",
     "output_type": "stream",
     "text": [
      "0\n",
      "1\n",
      "2\n",
      "3\n",
      "4\n"
     ]
    }
   ],
   "source": [
    "colors = ('black', 'brown', 'white', 'orange','green')\n",
    "for no in range(len(colors)):\n",
    "  print(no)"
   ]
  },
  {
   "cell_type": "markdown",
   "id": "43daec56",
   "metadata": {},
   "source": [
    "while loop"
   ]
  },
  {
   "cell_type": "code",
   "execution_count": 32,
   "id": "fc3bbc58",
   "metadata": {},
   "outputs": [
    {
     "name": "stdout",
     "output_type": "stream",
     "text": [
      "black\n",
      "brown\n",
      "white\n",
      "orange\n",
      "green\n"
     ]
    }
   ],
   "source": [
    "colors = ('black', 'brown', 'white', 'orange','green')\n",
    "i = 0\n",
    "while i < len(colors):\n",
    "  print(colors[i])\n",
    "  i = i + 1"
   ]
  },
  {
   "cell_type": "markdown",
   "id": "5423f7b6",
   "metadata": {},
   "source": [
    "Join"
   ]
  },
  {
   "cell_type": "code",
   "execution_count": 34,
   "id": "cae25942",
   "metadata": {},
   "outputs": [
    {
     "name": "stdout",
     "output_type": "stream",
     "text": [
      "('black', 'brown', 'white', 'orange', 'green', 'black', 'brown', 'white', 'orange', 'green')\n"
     ]
    }
   ],
   "source": [
    "colors = ('black', 'brown', 'white', 'orange','green')\n",
    "colors1 = ('yellow','grey','turtuquoise')\n",
    "\n",
    "tuple3 = colors + colors\n",
    "print(tuple3)"
   ]
  },
  {
   "cell_type": "code",
   "execution_count": 37,
   "id": "b2a30bc1",
   "metadata": {},
   "outputs": [
    {
     "name": "stdout",
     "output_type": "stream",
     "text": [
      "('black', 'brown', 'white', 'orange', 'green', 'black', 'brown', 'white', 'orange', 'green')\n"
     ]
    }
   ],
   "source": [
    "colors1 = ('yellow','grey','turtuquoise')\n",
    "colors = colors1 *2\n",
    "print(tuple3)"
   ]
  }
 ],
 "metadata": {
  "kernelspec": {
   "display_name": "Python 3 (ipykernel)",
   "language": "python",
   "name": "python3"
  },
  "language_info": {
   "codemirror_mode": {
    "name": "ipython",
    "version": 3
   },
   "file_extension": ".py",
   "mimetype": "text/x-python",
   "name": "python",
   "nbconvert_exporter": "python",
   "pygments_lexer": "ipython3",
   "version": "3.10.9"
  }
 },
 "nbformat": 4,
 "nbformat_minor": 5
}
